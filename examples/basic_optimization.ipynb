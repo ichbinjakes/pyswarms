{
 "cells": [
  {
   "cell_type": "markdown",
   "metadata": {},
   "source": [
    "# Basic Optimization\n",
    "In this example, we'll be performing a simple optimization of single-objective functions using the global-best optimizer in `pyswarms.single.GBestPSO` and the local-best optimizer in `pyswarms.single.LBestPSO`. This aims to demonstrate the basic capabilities of the library when applied to benchmark problems."
   ]
  },
  {
   "cell_type": "code",
   "execution_count": 1,
   "metadata": {},
   "outputs": [],
   "source": [
    "import sys\n",
    "# Change directory to access the pyswarms module\n",
    "sys.path.append('../')"
   ]
  },
  {
   "cell_type": "code",
   "execution_count": 2,
   "metadata": {},
   "outputs": [
    {
     "name": "stdout",
     "output_type": "stream",
     "text": [
      "Running on Python version: 3.7.2 (default, Dec 29 2018, 06:19:36) \n",
      "[GCC 7.3.0]\n"
     ]
    }
   ],
   "source": [
    "print('Running on Python version: {}'.format(sys.version))"
   ]
  },
  {
   "cell_type": "code",
   "execution_count": 3,
   "metadata": {},
   "outputs": [],
   "source": [
    "# Import modules\n",
    "import numpy as np\n",
    "\n",
    "# Import PySwarms\n",
    "import pyswarms as ps\n",
    "from pyswarms.utils.functions import single_obj as fx\n",
    "\n",
    "# Some more magic so that the notebook will reload external python modules;\n",
    "# see http://stackoverflow.com/questions/1907993/autoreload-of-modules-in-ipython\n",
    "%load_ext autoreload\n",
    "%autoreload 2"
   ]
  },
  {
   "cell_type": "markdown",
   "metadata": {},
   "source": [
    "## Optimizing a function\n",
    "First, let's start by optimizing the sphere function. Recall that the minima of this function can be located at `f(0,0..,0)` with a value of `0`. In case you don't remember the characteristics of a given function, simply call `help(<function>)`."
   ]
  },
  {
   "cell_type": "markdown",
   "metadata": {},
   "source": [
    "For now let's just set some arbitrary parameters in our optimizers. There are, at minimum, three steps to perform optimization:\n",
    "\n",
    "1. Set the hyperparameters to configure the swarm as a `dict`.\n",
    "2. Create an instance of the optimizer by passing the dictionary along with the necessary arguments.\n",
    "3. Call the `optimize()` method and have it store the optimal cost and position in a variable.\n",
    "\n",
    "The `optimize()` method returns a `tuple` of values, one of which includes the optimal cost and position after optimization. You can store it in a single variable and just index the values, or unpack it using several variables at once."
   ]
  },
  {
   "cell_type": "code",
   "execution_count": 7,
   "metadata": {},
   "outputs": [
    {
     "name": "stderr",
     "output_type": "stream",
     "text": [
      "2019-04-24 18:23:08,556 - pyswarms.single.global_best - INFO - Optimize for 10 iters with {'c1': 0.5, 'c2': 0.3, 'w': 0.9}\n",
      "\n",
      "pyswarms.single.global_best:   0%|          |0/10\u001b[A\n",
      "pyswarms.single.global_best:   0%|          |0/10, best_cost=0.0605\u001b[A\n",
      "pyswarms.single.global_best:   0%|          |0/10, best_cost=0.0605\u001b[A\n",
      "pyswarms.single.global_best:   0%|          |0/10, best_cost=0.0605\u001b[A\n",
      "pyswarms.single.global_best:   0%|          |0/10, best_cost=0.0605\u001b[A\n",
      "pyswarms.single.global_best:   0%|          |0/10, best_cost=0.0605\u001b[A\n",
      "pyswarms.single.global_best:   0%|          |0/10, best_cost=0.0424\u001b[A\n",
      "pyswarms.single.global_best:   0%|          |0/10, best_cost=8.36e-06\u001b[A\n",
      "pyswarms.single.global_best:   0%|          |0/10, best_cost=8.36e-06\u001b[A\n",
      "pyswarms.single.global_best:  80%|████████  |8/10, best_cost=8.36e-06\u001b[A\n",
      "pyswarms.single.global_best:  80%|████████  |8/10, best_cost=8.36e-06\u001b[A\n",
      "pyswarms.single.global_best:  80%|████████  |8/10, best_cost=8.36e-06\u001b[A\n",
      "pyswarms.single.global_best: 100%|██████████|10/10, best_cost=8.36e-06\u001b[A2019-04-24 18:23:08,708 - pyswarms.single.global_best - INFO - Optimization finished | best cost: 8.356164158276717e-06, best pos: [ 0.00249681 -0.00145674]\n"
     ]
    },
    {
     "name": "stdout",
     "output_type": "stream",
     "text": [
      "CPU times: user 52 ms, sys: 0 ns, total: 52 ms\n",
      "Wall time: 157 ms\n"
     ]
    }
   ],
   "source": [
    "%%time\n",
    "# Set-up hyperparameters\n",
    "options = {'c1': 0.5, 'c2': 0.3, 'w':0.9}\n",
    "\n",
    "# Call instance of PSO\n",
    "optimizer = ps.single.GlobalBestPSO(n_particles=10, dimensions=2, options=options)\n",
    "\n",
    "# Perform optimization\n",
    "cost, pos = optimizer.optimize(fx.sphere, iters=10)"
   ]
  },
  {
   "cell_type": "code",
   "execution_count": 13,
   "metadata": {},
   "outputs": [],
   "source": [
    "z=np.array(optimizer.cost_history)"
   ]
  },
  {
   "cell_type": "code",
   "execution_count": 16,
   "metadata": {},
   "outputs": [
    {
     "data": {
      "text/plain": [
       "8.356164158276717e-06"
      ]
     },
     "execution_count": 16,
     "metadata": {},
     "output_type": "execute_result"
    }
   ],
   "source": [
    "z[z.argmin()]"
   ]
  },
  {
   "cell_type": "code",
   "execution_count": 18,
   "metadata": {},
   "outputs": [
    {
     "ename": "AxisError",
     "evalue": "axis 1 is out of bounds for array of dimension 1",
     "output_type": "error",
     "traceback": [
      "\u001b[0;31m---------------------------------------------------------------------------\u001b[0m",
      "\u001b[0;31mAxisError\u001b[0m                                 Traceback (most recent call last)",
      "\u001b[0;32m<ipython-input-18-581cfa7918b2>\u001b[0m in \u001b[0;36m<module>\u001b[0;34m\u001b[0m\n\u001b[0;32m----> 1\u001b[0;31m \u001b[0mfx\u001b[0m\u001b[0;34m.\u001b[0m\u001b[0msphere\u001b[0m\u001b[0;34m(\u001b[0m\u001b[0mpos\u001b[0m\u001b[0;34m.\u001b[0m\u001b[0mT\u001b[0m\u001b[0;34m)\u001b[0m\u001b[0;34m\u001b[0m\u001b[0;34m\u001b[0m\u001b[0m\n\u001b[0m",
      "\u001b[0;32m~/anaconda3/lib/python3.7/site-packages/pyswarms/utils/functions/single_obj.py\u001b[0m in \u001b[0;36msphere\u001b[0;34m(x)\u001b[0m\n\u001b[1;32m    715\u001b[0m         \u001b[0mcomputed\u001b[0m \u001b[0mcost\u001b[0m \u001b[0mof\u001b[0m \u001b[0msize\u001b[0m \u001b[0;34m:\u001b[0m\u001b[0mcode\u001b[0m\u001b[0;34m:\u001b[0m\u001b[0;31m`\u001b[0m\u001b[0;34m(\u001b[0m\u001b[0mn_particles\u001b[0m\u001b[0;34m,\u001b[0m \u001b[0;34m)\u001b[0m\u001b[0;31m`\u001b[0m\u001b[0;34m\u001b[0m\u001b[0;34m\u001b[0m\u001b[0m\n\u001b[1;32m    716\u001b[0m     \"\"\"\n\u001b[0;32m--> 717\u001b[0;31m     \u001b[0mj\u001b[0m \u001b[0;34m=\u001b[0m \u001b[0;34m(\u001b[0m\u001b[0mx\u001b[0m \u001b[0;34m**\u001b[0m \u001b[0;36m2.0\u001b[0m\u001b[0;34m)\u001b[0m\u001b[0;34m.\u001b[0m\u001b[0msum\u001b[0m\u001b[0;34m(\u001b[0m\u001b[0maxis\u001b[0m\u001b[0;34m=\u001b[0m\u001b[0;36m1\u001b[0m\u001b[0;34m)\u001b[0m\u001b[0;34m\u001b[0m\u001b[0;34m\u001b[0m\u001b[0m\n\u001b[0m\u001b[1;32m    718\u001b[0m \u001b[0;34m\u001b[0m\u001b[0m\n\u001b[1;32m    719\u001b[0m     \u001b[0;32mreturn\u001b[0m \u001b[0mj\u001b[0m\u001b[0;34m\u001b[0m\u001b[0;34m\u001b[0m\u001b[0m\n",
      "\u001b[0;32m~/anaconda3/lib/python3.7/site-packages/numpy/core/_methods.py\u001b[0m in \u001b[0;36m_sum\u001b[0;34m(a, axis, dtype, out, keepdims, initial)\u001b[0m\n\u001b[1;32m     34\u001b[0m def _sum(a, axis=None, dtype=None, out=None, keepdims=False,\n\u001b[1;32m     35\u001b[0m          initial=_NoValue):\n\u001b[0;32m---> 36\u001b[0;31m     \u001b[0;32mreturn\u001b[0m \u001b[0mumr_sum\u001b[0m\u001b[0;34m(\u001b[0m\u001b[0ma\u001b[0m\u001b[0;34m,\u001b[0m \u001b[0maxis\u001b[0m\u001b[0;34m,\u001b[0m \u001b[0mdtype\u001b[0m\u001b[0;34m,\u001b[0m \u001b[0mout\u001b[0m\u001b[0;34m,\u001b[0m \u001b[0mkeepdims\u001b[0m\u001b[0;34m,\u001b[0m \u001b[0minitial\u001b[0m\u001b[0;34m)\u001b[0m\u001b[0;34m\u001b[0m\u001b[0;34m\u001b[0m\u001b[0m\n\u001b[0m\u001b[1;32m     37\u001b[0m \u001b[0;34m\u001b[0m\u001b[0m\n\u001b[1;32m     38\u001b[0m def _prod(a, axis=None, dtype=None, out=None, keepdims=False,\n",
      "\u001b[0;31mAxisError\u001b[0m: axis 1 is out of bounds for array of dimension 1"
     ]
    }
   ],
   "source": [
    "fx.sphere(pos.T)"
   ]
  },
  {
   "cell_type": "code",
   "execution_count": 23,
   "metadata": {},
   "outputs": [
    {
     "data": {
      "text/plain": [
       "array([ 0.00249681, -0.00145674])"
      ]
     },
     "execution_count": 23,
     "metadata": {},
     "output_type": "execute_result"
    }
   ],
   "source": [
    "pos.T"
   ]
  },
  {
   "cell_type": "code",
   "execution_count": 33,
   "metadata": {},
   "outputs": [
    {
     "data": {
      "text/plain": [
       "array([6.23406772e-06, 2.12209644e-06])"
      ]
     },
     "execution_count": 33,
     "metadata": {},
     "output_type": "execute_result"
    }
   ],
   "source": [
    "(pos.reshape(-1, 1) ** 2).sum(axis=1)"
   ]
  },
  {
   "cell_type": "code",
   "execution_count": 30,
   "metadata": {},
   "outputs": [
    {
     "data": {
      "text/plain": [
       "array([6.23406772e-06, 2.12209644e-06])"
      ]
     },
     "execution_count": 30,
     "metadata": {},
     "output_type": "execute_result"
    }
   ],
   "source": [
    "fx.sphere(pos.reshape(-1, 1))"
   ]
  },
  {
   "cell_type": "code",
   "execution_count": 29,
   "metadata": {},
   "outputs": [
    {
     "data": {
      "text/plain": [
       "array([ 0.00249681, -0.00145674])"
      ]
     },
     "execution_count": 29,
     "metadata": {},
     "output_type": "execute_result"
    }
   ],
   "source": [
    "pos"
   ]
  },
  {
   "cell_type": "code",
   "execution_count": 34,
   "metadata": {},
   "outputs": [
    {
     "data": {
      "text/plain": [
       "8.356164158276717e-06"
      ]
     },
     "execution_count": 34,
     "metadata": {},
     "output_type": "execute_result"
    }
   ],
   "source": [
    "cost"
   ]
  },
  {
   "cell_type": "code",
   "execution_count": 35,
   "metadata": {},
   "outputs": [
    {
     "data": {
      "text/plain": [
       "['ToHistory',\n",
       " '__abstractmethods__',\n",
       " '__class__',\n",
       " '__delattr__',\n",
       " '__dict__',\n",
       " '__dir__',\n",
       " '__doc__',\n",
       " '__eq__',\n",
       " '__format__',\n",
       " '__ge__',\n",
       " '__getattribute__',\n",
       " '__gt__',\n",
       " '__hash__',\n",
       " '__init__',\n",
       " '__init_subclass__',\n",
       " '__le__',\n",
       " '__lt__',\n",
       " '__module__',\n",
       " '__ne__',\n",
       " '__new__',\n",
       " '__reduce__',\n",
       " '__reduce_ex__',\n",
       " '__repr__',\n",
       " '__setattr__',\n",
       " '__sizeof__',\n",
       " '__slots__',\n",
       " '__str__',\n",
       " '__subclasshook__',\n",
       " '__weakref__',\n",
       " '_abc_impl',\n",
       " '_populate_history',\n",
       " 'bh',\n",
       " 'bounds',\n",
       " 'center',\n",
       " 'cost_history',\n",
       " 'dimensions',\n",
       " 'ftol',\n",
       " 'init_pos',\n",
       " 'mean_neighbor_history',\n",
       " 'mean_pbest_history',\n",
       " 'n_particles',\n",
       " 'name',\n",
       " 'optimize',\n",
       " 'options',\n",
       " 'pos_history',\n",
       " 'rep',\n",
       " 'reset',\n",
       " 'swarm',\n",
       " 'swarm_size',\n",
       " 'top',\n",
       " 'velocity_clamp',\n",
       " 'velocity_history',\n",
       " 'vh']"
      ]
     },
     "execution_count": 35,
     "metadata": {},
     "output_type": "execute_result"
    }
   ],
   "source": [
    "dir(optimizer)"
   ]
  },
  {
   "cell_type": "code",
   "execution_count": 36,
   "metadata": {},
   "outputs": [
    {
     "data": {
      "text/plain": [
       "[array([[0.90124935, 0.17491093],\n",
       "        [0.80474654, 0.92141545],\n",
       "        [0.82737053, 0.08275101],\n",
       "        [0.43055521, 0.16029267],\n",
       "        [0.7748099 , 0.83678948],\n",
       "        [0.21088674, 0.49822131],\n",
       "        [0.35918509, 0.7553067 ],\n",
       "        [0.10156838, 0.22410303],\n",
       "        [0.58793823, 0.30151857],\n",
       "        [0.17084816, 0.75461516]]), array([[1.43727288, 0.58528291],\n",
       "        [0.93435275, 1.42905162],\n",
       "        [1.13856742, 0.33461069],\n",
       "        [0.72586063, 0.32709616],\n",
       "        [1.5094666 , 1.18965563],\n",
       "        [0.90403286, 0.49314525],\n",
       "        [0.67649282, 1.00266235],\n",
       "        [0.5043016 , 0.67703065],\n",
       "        [0.75097075, 0.41294503],\n",
       "        [0.4881155 , 0.80689386]]), array([[1.65419275, 0.77490286],\n",
       "        [0.77212441, 1.42704143],\n",
       "        [0.98198008, 0.50241268],\n",
       "        [0.79360331, 0.46185756],\n",
       "        [1.7394455 , 1.39718321],\n",
       "        [1.34641821, 0.40948887],\n",
       "        [0.9158877 , 1.14369282],\n",
       "        [0.67208624, 0.96319035],\n",
       "        [0.70009302, 0.44887179],\n",
       "        [0.57512907, 0.69416884]]), array([[1.21344488, 0.61992065],\n",
       "        [0.45232105, 1.17197039],\n",
       "        [0.66917004, 0.41051598],\n",
       "        [0.68143011, 0.47378703],\n",
       "        [1.65180215, 1.39952274],\n",
       "        [1.41919708, 0.35495412],\n",
       "        [0.82031158, 1.13631049],\n",
       "        [0.63125209, 0.98728533],\n",
       "        [0.55975409, 0.38715874],\n",
       "        [0.53502928, 0.52391748]]), array([[0.5447976 , 0.46467561],\n",
       "        [0.33144311, 0.71443207],\n",
       "        [0.30345822, 0.31535249],\n",
       "        [0.49027688, 0.35467089],\n",
       "        [1.22966712, 0.99730451],\n",
       "        [0.7226531 , 0.29773023],\n",
       "        [0.39199028, 0.80877984],\n",
       "        [0.54763719, 0.59748084],\n",
       "        [0.3568341 , 0.24559238],\n",
       "        [0.43745753, 0.33405719]]), array([[-0.18582241,  0.30254416],\n",
       "        [ 0.18521129,  0.19873369],\n",
       "        [-0.02654187,  0.2203464 ],\n",
       "        [ 0.25351304,  0.17935622],\n",
       "        [ 0.47076599,  0.47001543],\n",
       "        [-0.18585261,  0.29629828],\n",
       "        [-0.05865941,  0.42130528],\n",
       "        [ 0.18595814,  0.13376584],\n",
       "        [ 0.17034079,  0.11556653],\n",
       "        [ 0.332588  ,  0.15416082]]), array([[-0.75208666,  0.13358625],\n",
       "        [ 0.05030533, -0.27457037],\n",
       "        [-0.30552283,  0.12318309],\n",
       "        [ 0.03198256,  0.00709269],\n",
       "        [-0.23476459, -0.06529374],\n",
       "        [-0.9488298 ,  0.25177129],\n",
       "        [-0.40068151,  0.07099387],\n",
       "        [-0.14094749, -0.28401897],\n",
       "        [ 0.00249681, -0.00145674],\n",
       "        [ 0.19438228, -0.01001684]]), array([[-0.94229611,  0.02982517],\n",
       "        [-0.06892539, -0.58493354],\n",
       "        [-0.38847327,  0.0277909 ],\n",
       "        [-0.17233487, -0.14907231],\n",
       "        [-0.81222803, -0.53376366],\n",
       "        [-1.26384299,  0.16073674],\n",
       "        [-0.69344037, -0.2511363 ],\n",
       "        [-0.34909747, -0.43797897],\n",
       "        [-0.14856277, -0.10677768],\n",
       "        [ 0.03806729, -0.15522386]]), array([[-0.72402378,  0.00299605],\n",
       "        [-0.10746193, -0.5584984 ],\n",
       "        [-0.2264908 , -0.0401891 ],\n",
       "        [-0.3201045 , -0.23810478],\n",
       "        [-1.25419726, -0.72882366],\n",
       "        [-0.9590918 ,  0.09803825],\n",
       "        [-0.89113748, -0.47244531],\n",
       "        [-0.32266201, -0.55880999],\n",
       "        [-0.23650561, -0.14437043],\n",
       "        [-0.10854115, -0.25264529]]), array([[-0.34292605,  0.05533529],\n",
       "        [ 0.00479474, -0.22896048],\n",
       "        [ 0.0409274 , -0.00397033],\n",
       "        [-0.33712626, -0.20313865],\n",
       "        [-1.44693963, -0.52632436],\n",
       "        [-0.62908024,  0.05772904],\n",
       "        [-0.86707901, -0.30730053],\n",
       "        [-0.08983331, -0.5830162 ],\n",
       "        [-0.22397181, -0.12428935],\n",
       "        [-0.21618396, -0.31741636]])]"
      ]
     },
     "execution_count": 36,
     "metadata": {},
     "output_type": "execute_result"
    }
   ],
   "source": [
    "optimizer.pos_history"
   ]
  },
  {
   "cell_type": "code",
   "execution_count": 37,
   "metadata": {},
   "outputs": [
    {
     "data": {
      "text/plain": [
       "[0.06053830594849705,\n",
       " 0.06053830594849705,\n",
       " 0.06053830594849705,\n",
       " 0.06053830594849705,\n",
       " 0.06053830594849705,\n",
       " 0.042371607406169756,\n",
       " 8.356164158276717e-06,\n",
       " 8.356164158276717e-06,\n",
       " 8.356164158276717e-06,\n",
       " 8.356164158276717e-06]"
      ]
     },
     "execution_count": 37,
     "metadata": {},
     "output_type": "execute_result"
    }
   ],
   "source": [
    "optimizer.cost_history"
   ]
  },
  {
   "cell_type": "code",
   "execution_count": 51,
   "metadata": {},
   "outputs": [
    {
     "data": {
      "text/plain": [
       "8"
      ]
     },
     "execution_count": 51,
     "metadata": {},
     "output_type": "execute_result"
    }
   ],
   "source": [
    "np.argmin(fx.sphere(optimizer.pos_history[np.argmin(optimizer.cost_history)]))"
   ]
  },
  {
   "cell_type": "code",
   "execution_count": 43,
   "metadata": {},
   "outputs": [
    {
     "data": {
      "text/plain": [
       "6"
      ]
     },
     "execution_count": 43,
     "metadata": {},
     "output_type": "execute_result"
    }
   ],
   "source": [
    "np.argmin(optimizer.cost_history)"
   ]
  },
  {
   "cell_type": "code",
   "execution_count": 46,
   "metadata": {},
   "outputs": [
    {
     "data": {
      "text/plain": [
       "array([[-0.75208666,  0.13358625],\n",
       "       [ 0.05030533, -0.27457037],\n",
       "       [-0.30552283,  0.12318309],\n",
       "       [ 0.03198256,  0.00709269],\n",
       "       [-0.23476459, -0.06529374],\n",
       "       [-0.9488298 ,  0.25177129],\n",
       "       [-0.40068151,  0.07099387],\n",
       "       [-0.14094749, -0.28401897],\n",
       "       [ 0.00249681, -0.00145674],\n",
       "       [ 0.19438228, -0.01001684]])"
      ]
     },
     "execution_count": 46,
     "metadata": {},
     "output_type": "execute_result"
    }
   ],
   "source": [
    "optimizer.pos_history[6]"
   ]
  },
  {
   "cell_type": "code",
   "execution_count": 72,
   "metadata": {},
   "outputs": [
    {
     "data": {
      "text/plain": [
       "array([ 0.00249681, -0.00145674])"
      ]
     },
     "execution_count": 72,
     "metadata": {},
     "output_type": "execute_result"
    }
   ],
   "source": [
    "optimizer.pos_history[np.argmin(optimizer.cost_history)][np.argmin(fx.sphere(optimizer.pos_history[np.argmin(optimizer.cost_history)]))]"
   ]
  },
  {
   "cell_type": "code",
   "execution_count": 73,
   "metadata": {},
   "outputs": [
    {
     "data": {
      "text/plain": [
       "array([ 0.00249681, -0.00145674])"
      ]
     },
     "execution_count": 73,
     "metadata": {},
     "output_type": "execute_result"
    }
   ],
   "source": [
    "pos"
   ]
  },
  {
   "cell_type": "code",
   "execution_count": 74,
   "metadata": {},
   "outputs": [
    {
     "data": {
      "text/plain": [
       "6"
      ]
     },
     "execution_count": 74,
     "metadata": {},
     "output_type": "execute_result"
    }
   ],
   "source": [
    "min_cost_idx = np.argmin(optimizer.cost_history)\n",
    "min_cost_idx"
   ]
  },
  {
   "cell_type": "code",
   "execution_count": 75,
   "metadata": {},
   "outputs": [
    {
     "data": {
      "text/plain": [
       "8"
      ]
     },
     "execution_count": 75,
     "metadata": {},
     "output_type": "execute_result"
    }
   ],
   "source": [
    "min_pos_idx = np.argmin(fx.sphere(optimizer.pos_history[min_cost_idx]))\n",
    "min_pos_idx"
   ]
  },
  {
   "cell_type": "code",
   "execution_count": 76,
   "metadata": {},
   "outputs": [
    {
     "data": {
      "text/plain": [
       "array([ 0.00249681, -0.00145674])"
      ]
     },
     "execution_count": 76,
     "metadata": {},
     "output_type": "execute_result"
    }
   ],
   "source": [
    "optimizer.pos_history[min_cost_idx][min_pos_idx]"
   ]
  },
  {
   "cell_type": "code",
   "execution_count": 77,
   "metadata": {},
   "outputs": [
    {
     "data": {
      "text/plain": [
       "True"
      ]
     },
     "execution_count": 77,
     "metadata": {},
     "output_type": "execute_result"
    }
   ],
   "source": [
    "optimizer.cost_history[min_cost_idx] == cost"
   ]
  },
  {
   "cell_type": "code",
   "execution_count": 78,
   "metadata": {},
   "outputs": [
    {
     "data": {
      "text/plain": [
       "True"
      ]
     },
     "execution_count": 78,
     "metadata": {},
     "output_type": "execute_result"
    }
   ],
   "source": [
    "np.array_equal(optimizer.pos_history[min_cost_idx][min_pos_idx], pos)"
   ]
  },
  {
   "cell_type": "code",
   "execution_count": null,
   "metadata": {},
   "outputs": [],
   "source": []
  },
  {
   "cell_type": "code",
   "execution_count": null,
   "metadata": {},
   "outputs": [],
   "source": []
  },
  {
   "cell_type": "code",
   "execution_count": null,
   "metadata": {},
   "outputs": [],
   "source": []
  },
  {
   "cell_type": "code",
   "execution_count": null,
   "metadata": {},
   "outputs": [],
   "source": []
  },
  {
   "cell_type": "code",
   "execution_count": null,
   "metadata": {},
   "outputs": [],
   "source": []
  },
  {
   "cell_type": "code",
   "execution_count": null,
   "metadata": {},
   "outputs": [],
   "source": []
  },
  {
   "cell_type": "code",
   "execution_count": null,
   "metadata": {},
   "outputs": [],
   "source": []
  },
  {
   "cell_type": "markdown",
   "metadata": {},
   "source": [
    "We can see that the optimizer was able to find a good minima as shown above. You can control the verbosity of the output using the `verbose` argument, and the number of steps to be printed out using the `print_step` argument."
   ]
  },
  {
   "cell_type": "markdown",
   "metadata": {},
   "source": [
    "Now, let's try this one using local-best PSO:"
   ]
  },
  {
   "cell_type": "code",
   "execution_count": 5,
   "metadata": {
    "scrolled": true
   },
   "outputs": [
    {
     "name": "stderr",
     "output_type": "stream",
     "text": [
      "INFO:pyswarms.single.local_best:Iteration 1/1000, cost: 0.01379181672220725\n",
      "INFO:pyswarms.single.local_best:Iteration 101/1000, cost: 2.084056061999154e-07\n",
      "INFO:pyswarms.single.local_best:Iteration 201/1000, cost: 9.44588224259351e-10\n",
      "INFO:pyswarms.single.local_best:Iteration 301/1000, cost: 1.5414149511766008e-13\n",
      "INFO:pyswarms.single.local_best:Iteration 401/1000, cost: 3.283944854760787e-16\n",
      "INFO:pyswarms.single.local_best:Iteration 501/1000, cost: 2.093366830537641e-20\n",
      "INFO:pyswarms.single.local_best:Iteration 601/1000, cost: 5.0279508047072096e-24\n",
      "INFO:pyswarms.single.local_best:Iteration 701/1000, cost: 1.0492646748670006e-27\n",
      "INFO:pyswarms.single.local_best:Iteration 801/1000, cost: 2.2616819643931453e-29\n",
      "INFO:pyswarms.single.local_best:Iteration 901/1000, cost: 8.48269618909152e-35\n",
      "INFO:pyswarms.single.local_best:================================\n",
      "Optimization finished!\n",
      "Final cost: 0.0000\n",
      "Best value: [2.122881378865588e-18, -5.35447408455737e-19]\n",
      "\n"
     ]
    },
    {
     "name": "stdout",
     "output_type": "stream",
     "text": [
      "CPU times: user 355 ms, sys: 4.36 ms, total: 359 ms\n",
      "Wall time: 353 ms\n"
     ]
    }
   ],
   "source": [
    "%%time\n",
    "# Set-up hyperparameters\n",
    "options = {'c1': 0.5, 'c2': 0.3, 'w':0.9, 'k': 2, 'p': 2}\n",
    "\n",
    "# Call instance of PSO\n",
    "optimizer = ps.single.LocalBestPSO(n_particles=10, dimensions=2, options=options)\n",
    "\n",
    "# Perform optimization\n",
    "cost, pos = optimizer.optimize(fx.sphere, print_step=100, iters=1000, verbose=3)"
   ]
  },
  {
   "cell_type": "markdown",
   "metadata": {},
   "source": [
    "## Optimizing a function with bounds\n",
    "Another thing that we can do is to set some bounds into our solution, so as to contain our candidate solutions within a specific range. We can do this simply by passing a `bounds` parameter, of type `tuple`, when creating an instance of our swarm. Let's try this using the global-best PSO with the Rastrigin function (`rastrigin` in `pyswarms.utils.functions.single_obj`)."
   ]
  },
  {
   "cell_type": "markdown",
   "metadata": {},
   "source": [
    "Recall that the Rastrigin function is bounded within `[-5.12, 5.12]`. If we pass an unbounded swarm into this function, then a `ValueError` might be raised. So what we'll do is to create a bound within the specified range. There are some things to remember when specifying a bound:\n",
    "\n",
    "* A bound should be of type tuple with length 2. \n",
    "* It should contain two `numpy.ndarrays` so that we have a `(min_bound, max_bound)`\n",
    "* Obviously, all values in the `max_bound` should always be greater than the `min_bound`. Their shapes should match the dimensions of the swarm."
   ]
  },
  {
   "cell_type": "markdown",
   "metadata": {},
   "source": [
    "What we'll do now is to create a 10-particle, 2-dimensional swarm. This means that we have to set our maximum and minimum boundaries with the shape of 2. In case we want to initialize an n-dimensional swarm, we then have to set our bounds with the same shape n. A fast workaround for this would be to use the `numpy.ones` function multiplied by a constant."
   ]
  },
  {
   "cell_type": "code",
   "execution_count": 6,
   "metadata": {},
   "outputs": [],
   "source": [
    "# Create bounds\n",
    "max_bound = 5.12 * np.ones(2)\n",
    "min_bound = - max_bound\n",
    "bounds = (min_bound, max_bound)"
   ]
  },
  {
   "cell_type": "code",
   "execution_count": 7,
   "metadata": {},
   "outputs": [
    {
     "name": "stderr",
     "output_type": "stream",
     "text": [
      "INFO:pyswarms.single.global_best:Iteration 1/1000, cost: 12.243865048066269\n",
      "INFO:pyswarms.single.global_best:Iteration 101/1000, cost: 1.1759164022634394\n",
      "INFO:pyswarms.single.global_best:Iteration 201/1000, cost: 0.9949603350768896\n",
      "INFO:pyswarms.single.global_best:Iteration 301/1000, cost: 0.9949590581556009\n",
      "INFO:pyswarms.single.global_best:Iteration 401/1000, cost: 0.9949590570934177\n",
      "INFO:pyswarms.single.global_best:Iteration 501/1000, cost: 0.9949590570932898\n",
      "INFO:pyswarms.single.global_best:Iteration 601/1000, cost: 0.9949590570932898\n",
      "INFO:pyswarms.single.global_best:Iteration 701/1000, cost: 0.9949590570932898\n",
      "INFO:pyswarms.single.global_best:Iteration 801/1000, cost: 0.9949590570932898\n",
      "INFO:pyswarms.single.global_best:Iteration 901/1000, cost: 0.9949590570932898\n",
      "INFO:pyswarms.single.global_best:================================\n",
      "Optimization finished!\n",
      "Final cost: 0.9950\n",
      "Best value: [3.5850411183743393e-09, -0.9949586379966202]\n",
      "\n"
     ]
    },
    {
     "name": "stdout",
     "output_type": "stream",
     "text": [
      "CPU times: user 213 ms, sys: 7.55 ms, total: 221 ms\n",
      "Wall time: 210 ms\n"
     ]
    }
   ],
   "source": [
    "%%time\n",
    "# Initialize swarm\n",
    "options = {'c1': 0.5, 'c2': 0.3, 'w':0.9}\n",
    "\n",
    "# Call instance of PSO with bounds argument\n",
    "optimizer = ps.single.GlobalBestPSO(n_particles=10, dimensions=2, options=options, bounds=bounds)\n",
    "\n",
    "# Perform optimization\n",
    "cost, pos = optimizer.optimize(fx.rastrigin, print_step=100, iters=1000, verbose=3)"
   ]
  },
  {
   "cell_type": "code",
   "execution_count": null,
   "metadata": {},
   "outputs": [],
   "source": []
  },
  {
   "cell_type": "markdown",
   "metadata": {},
   "source": [
    "## Basic Optimization with Arguments"
   ]
  },
  {
   "cell_type": "markdown",
   "metadata": {},
   "source": [
    "Here, we will run a basic optimization using an objective function that needs parameterization.  We will use the ``single.GBestPSO`` and a version of the rosenbrock function to demonstrate"
   ]
  },
  {
   "cell_type": "code",
   "execution_count": 2,
   "metadata": {},
   "outputs": [
    {
     "name": "stdout",
     "output_type": "stream",
     "text": [
      "Running Python 3.5.2 |Anaconda custom (64-bit)| (default, Jul  2 2016, 17:53:06) \n",
      "[GCC 4.4.7 20120313 (Red Hat 4.4.7-1)]\n"
     ]
    }
   ],
   "source": [
    "import sys\n",
    "# change directory to access pyswarms\n",
    "sys.path.append('../')\n",
    "\n",
    "print(\"Running Python {}\".format(sys.version))"
   ]
  },
  {
   "cell_type": "code",
   "execution_count": 8,
   "metadata": {
    "scrolled": true
   },
   "outputs": [],
   "source": [
    "# import modules\n",
    "import numpy as np\n",
    "\n",
    "# create a parameterized version of the classic Rosenbrock unconstrained optimzation function\n",
    "def rosenbrock_with_args(x, a, b, c=0):\n",
    "\n",
    "    f = (a - x[:, 0]) ** 2 + b * (x[:, 1] - x[:, 0] ** 2) ** 2 + c\n",
    "    return f"
   ]
  },
  {
   "cell_type": "markdown",
   "metadata": {},
   "source": [
    "### Using Arguments"
   ]
  },
  {
   "cell_type": "markdown",
   "metadata": {},
   "source": [
    "Arguments can either be passed in using a tuple or a dictionary, using the ``kwargs={}`` paradigm. First lets optimize the Rosenbrock function using keyword arguments.  Note in the definition of the Rosenbrock function above, there were two arguments that need to be passed other than the design variables, and one optional keyword argument, ``a``, ``b``, and ``c``, respectively"
   ]
  },
  {
   "cell_type": "code",
   "execution_count": 12,
   "metadata": {},
   "outputs": [
    {
     "name": "stderr",
     "output_type": "stream",
     "text": [
      "INFO:pyswarms.single.global_best:Arguments Passed to Objective Function: {'c': 0, 'b': 100, 'a': 1}\n",
      "INFO:pyswarms.single.global_best:Iteration 1/1000, cost: 1022.9667801907804\n",
      "INFO:pyswarms.single.global_best:Iteration 101/1000, cost: 0.0011172801146408992\n",
      "INFO:pyswarms.single.global_best:Iteration 201/1000, cost: 7.845605970774126e-07\n",
      "INFO:pyswarms.single.global_best:Iteration 301/1000, cost: 1.313503109901238e-09\n",
      "INFO:pyswarms.single.global_best:Iteration 401/1000, cost: 5.187079604907219e-10\n",
      "INFO:pyswarms.single.global_best:Iteration 501/1000, cost: 1.0115283486088853e-10\n",
      "INFO:pyswarms.single.global_best:Iteration 601/1000, cost: 2.329870757208421e-13\n",
      "INFO:pyswarms.single.global_best:Iteration 701/1000, cost: 4.826176894160183e-15\n",
      "INFO:pyswarms.single.global_best:Iteration 801/1000, cost: 3.125715456651088e-17\n",
      "INFO:pyswarms.single.global_best:Iteration 901/1000, cost: 1.4236768129666014e-19\n",
      "INFO:pyswarms.single.global_best:================================\n",
      "Optimization finished!\n",
      "Final cost: 0.0000\n",
      "Best value: [0.99999999996210465, 0.9999999999218413]\n",
      "\n"
     ]
    }
   ],
   "source": [
    "from pyswarms.single.global_best import GlobalBestPSO\n",
    "\n",
    "# instatiate the optimizer\n",
    "x_max = 10 * np.ones(2)\n",
    "x_min = -1 * x_max\n",
    "bounds = (x_min, x_max)\n",
    "options = {'c1': 0.5, 'c2': 0.3, 'w': 0.9}\n",
    "optimizer = GlobalBestPSO(n_particles=10, dimensions=2, options=options, bounds=bounds)\n",
    "\n",
    "# now run the optimization, pass a=1 and b=100 as a tuple assigned to args\n",
    "\n",
    "cost, pos = optimizer.optimize(rosenbrock_with_args, 1000, print_step=100, verbose=3, a=1, b=100, c=0)"
   ]
  },
  {
   "cell_type": "markdown",
   "metadata": {},
   "source": [
    "It is also possible to pass a dictionary of key word arguments by using ``**`` decorator when passing the dict"
   ]
  },
  {
   "cell_type": "code",
   "execution_count": 13,
   "metadata": {},
   "outputs": [
    {
     "name": "stderr",
     "output_type": "stream",
     "text": [
      "INFO:pyswarms.single.global_best:Arguments Passed to Objective Function: {'c': 0, 'b': 100.0, 'a': 1.0}\n",
      "INFO:pyswarms.single.global_best:Iteration 1/1000, cost: 1.996797703363527e-21\n",
      "INFO:pyswarms.single.global_best:Iteration 101/1000, cost: 1.0061676299213387e-24\n",
      "INFO:pyswarms.single.global_best:Iteration 201/1000, cost: 4.8140236741112245e-28\n",
      "INFO:pyswarms.single.global_best:Iteration 301/1000, cost: 2.879342304056693e-29\n",
      "INFO:pyswarms.single.global_best:Iteration 401/1000, cost: 0.0\n",
      "INFO:pyswarms.single.global_best:Iteration 501/1000, cost: 0.0\n",
      "INFO:pyswarms.single.global_best:Iteration 601/1000, cost: 0.0\n",
      "INFO:pyswarms.single.global_best:Iteration 701/1000, cost: 0.0\n",
      "INFO:pyswarms.single.global_best:Iteration 801/1000, cost: 0.0\n",
      "INFO:pyswarms.single.global_best:Iteration 901/1000, cost: 0.0\n",
      "INFO:pyswarms.single.global_best:================================\n",
      "Optimization finished!\n",
      "Final cost: 0.0000\n",
      "Best value: [1.0, 1.0]\n",
      "\n"
     ]
    }
   ],
   "source": [
    "kwargs={\"a\": 1.0, \"b\": 100.0, 'c':0}\n",
    "cost, pos = optimizer.optimize(rosenbrock_with_args, 1000, print_step=100, verbose=3, **kwargs)"
   ]
  },
  {
   "cell_type": "markdown",
   "metadata": {
    "collapsed": true
   },
   "source": [
    "Any key word arguments in the objective function can be left out as they will be passed the default as defined in the prototype. Note here, ``c`` is not passed into the function."
   ]
  },
  {
   "cell_type": "code",
   "execution_count": 14,
   "metadata": {},
   "outputs": [
    {
     "name": "stderr",
     "output_type": "stream",
     "text": [
      "INFO:pyswarms.single.global_best:Arguments Passed to Objective Function: {'b': 100, 'a': 1}\n",
      "INFO:pyswarms.single.global_best:Iteration 1/1000, cost: 0.0\n",
      "INFO:pyswarms.single.global_best:Iteration 101/1000, cost: 0.0\n",
      "INFO:pyswarms.single.global_best:Iteration 201/1000, cost: 0.0\n",
      "INFO:pyswarms.single.global_best:Iteration 301/1000, cost: 0.0\n",
      "INFO:pyswarms.single.global_best:Iteration 401/1000, cost: 0.0\n",
      "INFO:pyswarms.single.global_best:Iteration 501/1000, cost: 0.0\n",
      "INFO:pyswarms.single.global_best:Iteration 601/1000, cost: 0.0\n",
      "INFO:pyswarms.single.global_best:Iteration 701/1000, cost: 0.0\n",
      "INFO:pyswarms.single.global_best:Iteration 801/1000, cost: 0.0\n",
      "INFO:pyswarms.single.global_best:Iteration 901/1000, cost: 0.0\n",
      "INFO:pyswarms.single.global_best:================================\n",
      "Optimization finished!\n",
      "Final cost: 0.0000\n",
      "Best value: [1.0, 1.0]\n",
      "\n"
     ]
    }
   ],
   "source": [
    "cost, pos = optimizer.optimize(rosenbrock_with_args, 1000, print_step=100, verbose=3, a=1, b=100)"
   ]
  },
  {
   "cell_type": "code",
   "execution_count": null,
   "metadata": {
    "collapsed": true
   },
   "outputs": [],
   "source": []
  }
 ],
 "metadata": {
  "anaconda-cloud": {},
  "kernelspec": {
   "display_name": "Python 3",
   "language": "python",
   "name": "python3"
  },
  "language_info": {
   "codemirror_mode": {
    "name": "ipython",
    "version": 3
   },
   "file_extension": ".py",
   "mimetype": "text/x-python",
   "name": "python",
   "nbconvert_exporter": "python",
   "pygments_lexer": "ipython3",
   "version": "3.7.2"
  }
 },
 "nbformat": 4,
 "nbformat_minor": 1
}
